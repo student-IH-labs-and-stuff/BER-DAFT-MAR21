{
 "cells": [
  {
   "cell_type": "code",
   "execution_count": 46,
   "id": "99a4eadf",
   "metadata": {},
   "outputs": [],
   "source": [
    "import pandas as pd\n",
    "import numpy as np\n",
    "\n",
    "# import plotting libraries\n",
    "import seaborn as sns\n",
    "import matplotlib.pyplot as plt\n",
    "\n",
    "# import sklearn libraries\n",
    "from sklearn.linear_model import LogisticRegression\n",
    "from sklearn.preprocessing import StandardScaler\n",
    "from sklearn.metrics import confusion_matrix\n",
    "from sklearn.model_selection import train_test_split\n",
    "\n",
    "import warnings\n",
    "warnings.filterwarnings('ignore')"
   ]
  },
  {
   "cell_type": "code",
   "execution_count": 31,
   "id": "f299c4c8",
   "metadata": {},
   "outputs": [
    {
     "data": {
      "text/html": [
       "<div>\n",
       "<style scoped>\n",
       "    .dataframe tbody tr th:only-of-type {\n",
       "        vertical-align: middle;\n",
       "    }\n",
       "\n",
       "    .dataframe tbody tr th {\n",
       "        vertical-align: top;\n",
       "    }\n",
       "\n",
       "    .dataframe thead th {\n",
       "        text-align: right;\n",
       "    }\n",
       "</style>\n",
       "<table border=\"1\" class=\"dataframe\">\n",
       "  <thead>\n",
       "    <tr style=\"text-align: right;\">\n",
       "      <th></th>\n",
       "      <th>customerID</th>\n",
       "      <th>gender</th>\n",
       "      <th>SeniorCitizen</th>\n",
       "      <th>Partner</th>\n",
       "      <th>Dependents</th>\n",
       "      <th>tenure</th>\n",
       "      <th>PhoneService</th>\n",
       "      <th>MultipleLines</th>\n",
       "      <th>InternetService</th>\n",
       "      <th>OnlineSecurity</th>\n",
       "      <th>...</th>\n",
       "      <th>DeviceProtection</th>\n",
       "      <th>TechSupport</th>\n",
       "      <th>StreamingTV</th>\n",
       "      <th>StreamingMovies</th>\n",
       "      <th>Contract</th>\n",
       "      <th>PaperlessBilling</th>\n",
       "      <th>PaymentMethod</th>\n",
       "      <th>MonthlyCharges</th>\n",
       "      <th>TotalCharges</th>\n",
       "      <th>Churn</th>\n",
       "    </tr>\n",
       "  </thead>\n",
       "  <tbody>\n",
       "    <tr>\n",
       "      <th>0</th>\n",
       "      <td>7590-VHVEG</td>\n",
       "      <td>Female</td>\n",
       "      <td>0</td>\n",
       "      <td>Yes</td>\n",
       "      <td>No</td>\n",
       "      <td>1</td>\n",
       "      <td>No</td>\n",
       "      <td>No phone service</td>\n",
       "      <td>DSL</td>\n",
       "      <td>No</td>\n",
       "      <td>...</td>\n",
       "      <td>No</td>\n",
       "      <td>No</td>\n",
       "      <td>No</td>\n",
       "      <td>No</td>\n",
       "      <td>Month-to-month</td>\n",
       "      <td>Yes</td>\n",
       "      <td>Electronic check</td>\n",
       "      <td>29.85</td>\n",
       "      <td>29.85</td>\n",
       "      <td>No</td>\n",
       "    </tr>\n",
       "    <tr>\n",
       "      <th>1</th>\n",
       "      <td>5575-GNVDE</td>\n",
       "      <td>Male</td>\n",
       "      <td>0</td>\n",
       "      <td>No</td>\n",
       "      <td>No</td>\n",
       "      <td>34</td>\n",
       "      <td>Yes</td>\n",
       "      <td>No</td>\n",
       "      <td>DSL</td>\n",
       "      <td>Yes</td>\n",
       "      <td>...</td>\n",
       "      <td>Yes</td>\n",
       "      <td>No</td>\n",
       "      <td>No</td>\n",
       "      <td>No</td>\n",
       "      <td>One year</td>\n",
       "      <td>No</td>\n",
       "      <td>Mailed check</td>\n",
       "      <td>56.95</td>\n",
       "      <td>1889.5</td>\n",
       "      <td>No</td>\n",
       "    </tr>\n",
       "    <tr>\n",
       "      <th>2</th>\n",
       "      <td>3668-QPYBK</td>\n",
       "      <td>Male</td>\n",
       "      <td>0</td>\n",
       "      <td>No</td>\n",
       "      <td>No</td>\n",
       "      <td>2</td>\n",
       "      <td>Yes</td>\n",
       "      <td>No</td>\n",
       "      <td>DSL</td>\n",
       "      <td>Yes</td>\n",
       "      <td>...</td>\n",
       "      <td>No</td>\n",
       "      <td>No</td>\n",
       "      <td>No</td>\n",
       "      <td>No</td>\n",
       "      <td>Month-to-month</td>\n",
       "      <td>Yes</td>\n",
       "      <td>Mailed check</td>\n",
       "      <td>53.85</td>\n",
       "      <td>108.15</td>\n",
       "      <td>Yes</td>\n",
       "    </tr>\n",
       "    <tr>\n",
       "      <th>3</th>\n",
       "      <td>7795-CFOCW</td>\n",
       "      <td>Male</td>\n",
       "      <td>0</td>\n",
       "      <td>No</td>\n",
       "      <td>No</td>\n",
       "      <td>45</td>\n",
       "      <td>No</td>\n",
       "      <td>No phone service</td>\n",
       "      <td>DSL</td>\n",
       "      <td>Yes</td>\n",
       "      <td>...</td>\n",
       "      <td>Yes</td>\n",
       "      <td>Yes</td>\n",
       "      <td>No</td>\n",
       "      <td>No</td>\n",
       "      <td>One year</td>\n",
       "      <td>No</td>\n",
       "      <td>Bank transfer (automatic)</td>\n",
       "      <td>42.30</td>\n",
       "      <td>1840.75</td>\n",
       "      <td>No</td>\n",
       "    </tr>\n",
       "    <tr>\n",
       "      <th>4</th>\n",
       "      <td>9237-HQITU</td>\n",
       "      <td>Female</td>\n",
       "      <td>0</td>\n",
       "      <td>No</td>\n",
       "      <td>No</td>\n",
       "      <td>2</td>\n",
       "      <td>Yes</td>\n",
       "      <td>No</td>\n",
       "      <td>Fiber optic</td>\n",
       "      <td>No</td>\n",
       "      <td>...</td>\n",
       "      <td>No</td>\n",
       "      <td>No</td>\n",
       "      <td>No</td>\n",
       "      <td>No</td>\n",
       "      <td>Month-to-month</td>\n",
       "      <td>Yes</td>\n",
       "      <td>Electronic check</td>\n",
       "      <td>70.70</td>\n",
       "      <td>151.65</td>\n",
       "      <td>Yes</td>\n",
       "    </tr>\n",
       "  </tbody>\n",
       "</table>\n",
       "<p>5 rows × 21 columns</p>\n",
       "</div>"
      ],
      "text/plain": [
       "   customerID  gender  SeniorCitizen Partner Dependents  tenure PhoneService  \\\n",
       "0  7590-VHVEG  Female              0     Yes         No       1           No   \n",
       "1  5575-GNVDE    Male              0      No         No      34          Yes   \n",
       "2  3668-QPYBK    Male              0      No         No       2          Yes   \n",
       "3  7795-CFOCW    Male              0      No         No      45           No   \n",
       "4  9237-HQITU  Female              0      No         No       2          Yes   \n",
       "\n",
       "      MultipleLines InternetService OnlineSecurity  ... DeviceProtection  \\\n",
       "0  No phone service             DSL             No  ...               No   \n",
       "1                No             DSL            Yes  ...              Yes   \n",
       "2                No             DSL            Yes  ...               No   \n",
       "3  No phone service             DSL            Yes  ...              Yes   \n",
       "4                No     Fiber optic             No  ...               No   \n",
       "\n",
       "  TechSupport StreamingTV StreamingMovies        Contract PaperlessBilling  \\\n",
       "0          No          No              No  Month-to-month              Yes   \n",
       "1          No          No              No        One year               No   \n",
       "2          No          No              No  Month-to-month              Yes   \n",
       "3         Yes          No              No        One year               No   \n",
       "4          No          No              No  Month-to-month              Yes   \n",
       "\n",
       "               PaymentMethod MonthlyCharges  TotalCharges Churn  \n",
       "0           Electronic check          29.85         29.85    No  \n",
       "1               Mailed check          56.95        1889.5    No  \n",
       "2               Mailed check          53.85        108.15   Yes  \n",
       "3  Bank transfer (automatic)          42.30       1840.75    No  \n",
       "4           Electronic check          70.70        151.65   Yes  \n",
       "\n",
       "[5 rows x 21 columns]"
      ]
     },
     "execution_count": 31,
     "metadata": {},
     "output_type": "execute_result"
    }
   ],
   "source": [
    "## load dataset\n",
    "churnData = pd.read_csv('files_for_lab/customer_churn.csv') # this file is in files_for_lab folder\n",
    "churnData.head(5)"
   ]
  },
  {
   "cell_type": "code",
   "execution_count": 32,
   "id": "54fccfd1",
   "metadata": {},
   "outputs": [],
   "source": [
    "## prepare variables\n",
    "X = churnData[['tenure', 'SeniorCitizen','MonthlyCharges']]\n",
    "y = (churnData.Churn == 'Yes').astype(int)"
   ]
  },
  {
   "cell_type": "code",
   "execution_count": 33,
   "id": "234e0611",
   "metadata": {},
   "outputs": [
    {
     "name": "stdout",
     "output_type": "stream",
     "text": [
      "<class 'pandas.core.frame.DataFrame'>\n",
      "RangeIndex: 7043 entries, 0 to 7042\n",
      "Data columns (total 3 columns):\n",
      " #   Column          Non-Null Count  Dtype  \n",
      "---  ------          --------------  -----  \n",
      " 0   tenure          7043 non-null   int64  \n",
      " 1   SeniorCitizen   7043 non-null   int64  \n",
      " 2   MonthlyCharges  7043 non-null   float64\n",
      "dtypes: float64(1), int64(2)\n",
      "memory usage: 165.2 KB\n"
     ]
    }
   ],
   "source": [
    "X.info()"
   ]
  },
  {
   "cell_type": "code",
   "execution_count": 34,
   "id": "9f99d77e",
   "metadata": {},
   "outputs": [],
   "source": [
    "transformer = StandardScaler().fit(X)\n",
    "scaled_x = transformer.transform(X)"
   ]
  },
  {
   "cell_type": "code",
   "execution_count": 35,
   "id": "566a870f",
   "metadata": {},
   "outputs": [
    {
     "data": {
      "text/plain": [
       "array([[-1.27744458, -0.43991649, -1.16032292],\n",
       "       [ 0.06632742, -0.43991649, -0.25962894],\n",
       "       [-1.23672422, -0.43991649, -0.36266036],\n",
       "       ...,\n",
       "       [-0.87024095, -0.43991649, -1.1686319 ],\n",
       "       [-1.15528349,  2.27315869,  0.32033821],\n",
       "       [ 1.36937906, -0.43991649,  1.35896134]])"
      ]
     },
     "execution_count": 35,
     "metadata": {},
     "output_type": "execute_result"
    }
   ],
   "source": [
    "scaled_x"
   ]
  },
  {
   "cell_type": "markdown",
   "id": "214cd323",
   "metadata": {},
   "source": [
    "## Modeling before sampling, with imbalanced target, including model validation with train-test-split"
   ]
  },
  {
   "cell_type": "code",
   "execution_count": 36,
   "id": "34b57566",
   "metadata": {},
   "outputs": [
    {
     "data": {
      "text/plain": [
       "0    5174\n",
       "1    1869\n",
       "Name: Churn, dtype: int64"
      ]
     },
     "execution_count": 36,
     "metadata": {},
     "output_type": "execute_result"
    }
   ],
   "source": [
    "y.value_counts()"
   ]
  },
  {
   "cell_type": "code",
   "execution_count": 74,
   "id": "04658ca2",
   "metadata": {},
   "outputs": [
    {
     "data": {
      "image/png": "[encoded data removed]",
      "text/plain": [
       "<Figure size 576x576 with 2 Axes>"
      ]
     },
     "metadata": {},
     "output_type": "display_data"
    }
   ],
   "source": [
    "X_train, X_test, y_train, y_test = train_test_split(scaled_x, y, test_size=0.3, random_state=100)\n",
    "\n",
    "# instantiating and training of a LogisticRegression model\n",
    "model = LogisticRegression(random_state=0, solver='lbfgs',\n",
    "                        multi_class='ovr').fit(X_train, y_train)\n",
    "\n",
    "# creating predictions based on our trained model\n",
    "y_pred=model.predict(X_test)\n",
    "\n",
    "# calculating confusion matrix\n",
    "cnfmat = confusion_matrix(y_pred, y_test)\n",
    "\n",
    "# creating a Dataframe out of our confusion matrix. Makes it more comfortable to plot in seaborn\n",
    "df_cm = pd.DataFrame(cnfmat, columns=np.unique(y_test), in\n",
    "                     dex = np.unique(y_test))\n",
    "\n",
    "# assinging column and index names to our df\n",
    "df_cm.index.name = 'Actual (Churn?)'\n",
    "df_cm.columns.name = 'Predicted (Churn?)'\n",
    "\n",
    "# set the fontsize for my plot\n",
    "sns.set(font_scale=1)\n",
    "\n",
    "# this funcformatter is necessary to create a custom function which formats our values as % later\n",
    "from matplotlib.ticker import FuncFormatter\n",
    "fmt = lambda x,pos: '{:.0%}'.format(x)\n",
    "\n",
    "# set plot size\n",
    "fig, ax = plt.subplots(figsize=(8,8))\n",
    "\n",
    "# plot the heatmap for our confusion matrix\n",
    "sns.heatmap(df_cm/df_cm.sum().sum(),  # plot the number of values as percentage of all values in the confusion matrix\n",
    "            annot=True,\n",
    "            fmt='.0%',\n",
    "            cmap='hot',\n",
    "            annot_kws={\"size\":15},\n",
    "            cbar_kws={'format': FuncFormatter(fmt)}\n",
    "           );\n"
   ]
  },
  {
   "cell_type": "markdown",
   "id": "36540dec",
   "metadata": {},
   "source": [
    "Observation: It's evident that our model is way better in predicting the `Churn=False` customers correctly than the ones that have churned - because of the heavy misbalance within the target variable of `5174` (Did not churn) to `1869` (have churned)"
   ]
  },
  {
   "cell_type": "code",
   "execution_count": 65,
   "id": "8aa75d8b",
   "metadata": {},
   "outputs": [
    {
     "data": {
      "text/plain": [
       "0.7905721993468693"
      ]
     },
     "execution_count": 65,
     "metadata": {},
     "output_type": "execute_result"
    }
   ],
   "source": [
    "model.score(scaled_x, y)"
   ]
  },
  {
   "cell_type": "markdown",
   "id": "6f35a879",
   "metadata": {},
   "source": [
    "# applying SMOTE to get rid of imbalance - (oversample the minority class of the target label)"
   ]
  },
  {
   "cell_type": "code",
   "execution_count": 39,
   "id": "36ec7fee",
   "metadata": {},
   "outputs": [
    {
     "data": {
      "text/plain": [
       "1    5174\n",
       "0    5174\n",
       "Name: Churn, dtype: int64"
      ]
     },
     "execution_count": 39,
     "metadata": {},
     "output_type": "execute_result"
    }
   ],
   "source": [
    "from imblearn.over_sampling import SMOTE\n",
    "smote = SMOTE()\n",
    "X_sm, y_sm = smote.fit_sample(scaled_x, y)\n",
    "y_sm.value_counts()"
   ]
  },
  {
   "cell_type": "markdown",
   "id": "d06a9d68",
   "metadata": {},
   "source": [
    "### Model again and plot the confusion matrix (same code like above)"
   ]
  },
  {
   "cell_type": "code",
   "execution_count": 76,
   "id": "3c3454b9",
   "metadata": {},
   "outputs": [
    {
     "data": {
      "image/png": "[encoded data removed]",
      "text/plain": [
       "<Figure size 576x576 with 2 Axes>"
      ]
     },
     "metadata": {},
     "output_type": "display_data"
    }
   ],
   "source": [
    "X_train, X_test, y_train, y_test = train_test_split(X_sm, y_sm, test_size=0.3, random_state=100)\n",
    "\n",
    "model = LogisticRegression(random_state=0, solver='lbfgs',\n",
    "                        multi_class='ovr').fit(X_train, y_train)\n",
    "\n",
    "y_pred=model.predict(X_test)\n",
    "cnfmat = confusion_matrix(y_pred, y_test)\n",
    "\n",
    "df_cm = pd.DataFrame(cnfmat, columns=np.unique(y_test), index = np.unique(y_test))\n",
    "\n",
    "\n",
    "df_cm.index.name = 'Actual (Churn?)'\n",
    "df_cm.columns.name = 'Predicted (Churn?)'\n",
    "\n",
    "sns.set(font_scale=1)\n",
    "\n",
    "from matplotlib.ticker import FuncFormatter\n",
    "fmt = lambda x,pos: '{:.0%}'.format(x)\n",
    "\n",
    "# set plot size\n",
    "fig, ax = plt.subplots(figsize=(8,8))\n",
    "\n",
    "# plot the heatmap\n",
    "sns.heatmap(df_cm/df_cm.sum().sum(),  # plot the number of values as percentage of all values in the confusion matrix\n",
    "            annot=True,\n",
    "            fmt='.0%',\n",
    "            cmap='hot',\n",
    "            annot_kws={\"size\":15},\n",
    "            cbar_kws={'format': FuncFormatter(fmt)}\n",
    "           );"
   ]
  },
  {
   "cell_type": "markdown",
   "id": "8ae9b378",
   "metadata": {},
   "source": [
    "Observation\n",
    "* the quality of correct predictions (true positives, true negatives) got way better after SMOTE and is now balanced. Still, the numbers of false negatives and false positives are fairly high"
   ]
  },
  {
   "cell_type": "markdown",
   "id": "bfef4f76",
   "metadata": {},
   "source": [
    "# Applying TomekLinks to downsample the majority class of the label"
   ]
  },
  {
   "cell_type": "code",
   "execution_count": 77,
   "id": "59ee8f30",
   "metadata": {},
   "outputs": [
    {
     "data": {
      "text/plain": [
       "0    4694\n",
       "1    1869\n",
       "Name: Churn, dtype: int64"
      ]
     },
     "execution_count": 77,
     "metadata": {},
     "output_type": "execute_result"
    }
   ],
   "source": [
    "from imblearn.under_sampling import TomekLinks\n",
    "\n",
    "tl = TomekLinks('majority')\n",
    "X_tl, y_tl = tl.fit_sample(scaled_x, y)\n",
    "y_tl.value_counts()"
   ]
  },
  {
   "cell_type": "code",
   "execution_count": 78,
   "id": "40be6b22",
   "metadata": {},
   "outputs": [
    {
     "data": {
      "image/png": "[encoded data removed]",
      "text/plain": [
       "<Figure size 576x576 with 2 Axes>"
      ]
     },
     "metadata": {},
     "output_type": "display_data"
    }
   ],
   "source": [
    "X_train, X_test, y_train, y_test = train_test_split(X_tl, y_tl, test_size=0.3, random_state=100)\n",
    "\n",
    "model = LogisticRegression(random_state=0, solver='lbfgs',\n",
    "                        multi_class='ovr').fit(X_train, y_train)\n",
    "\n",
    "y_pred=model.predict(X_test)\n",
    "cnfmat = confusion_matrix(y_pred, y_test)\n",
    "\n",
    "df_cm = pd.DataFrame(cnfmat, columns=np.unique(y_test), index = np.unique(y_test))\n",
    "\n",
    "\n",
    "df_cm.index.name = 'Actual (Churn?)'\n",
    "df_cm.columns.name = 'Predicted (Churn?)'\n",
    "\n",
    "sns.set(font_scale=1)\n",
    "\n",
    "from matplotlib.ticker import FuncFormatter\n",
    "fmt = lambda x,pos: '{:.0%}'.format(x)\n",
    "\n",
    "# set plot size\n",
    "fig, ax = plt.subplots(figsize=(8,8))\n",
    "\n",
    "# plot the heatmap\n",
    "sns.heatmap(df_cm/df_cm.sum().sum(),  # plot the number of values as percentage of all values in the confusion matrix\n",
    "            annot=True,\n",
    "            fmt='.0%',\n",
    "            cmap='hot',\n",
    "            annot_kws={\"size\":15},\n",
    "            cbar_kws={'format': FuncFormatter(fmt)}\n",
    "           );"
   ]
  },
  {
   "cell_type": "markdown",
   "id": "cc9067b6",
   "metadata": {},
   "source": [
    "Observation:\n",
    "* this result is only a tiny bit better than the one with the unsampled data. This is quite obvious, if we look at how TomekLinks work: It tries to find pairs of datapoints that are similar regarding their features (or in math terms: which are **nearest neighbors in the feature space**, but have opposing values in their label. Then it drops the one belonging to the majority class. In some datasets, when only TomekLinks is applied, there simply cannot be found enough pairs to bring the number of majority class rows down to the number of the minority\n",
    "* if you're unsure which method to use then, give [this article](https://machinelearningmastery.com/data-sampling-methods-for-imbalanced-classification/) a read. In practice it was shown that combining several sampling techniques yields the bet result "
   ]
  },
  {
   "cell_type": "code",
   "execution_count": null,
   "id": "b72e182b",
   "metadata": {},
   "outputs": [],
   "source": []
  }
 ],
 "metadata": {
  "kernelspec": {
   "display_name": "Python 3",
   "language": "python",
   "name": "python3"
  },
  "language_info": {
   "codemirror_mode": {
    "name": "ipython",
    "version": 3
   },
   "file_extension": ".py",
   "mimetype": "text/x-python",
   "name": "python",
   "nbconvert_exporter": "python",
   "pygments_lexer": "ipython3",
   "version": "3.8.8"
  }
 },
 "nbformat": 4,
 "nbformat_minor": 5
}
